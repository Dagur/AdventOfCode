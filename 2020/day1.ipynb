{
 "cells": [
  {
   "cell_type": "code",
   "execution_count": 10,
   "metadata": {},
   "outputs": [],
   "source": [
    "content = list(int(x) for x in open(\"input/1.txt\").readlines())"
   ]
  },
  {
   "cell_type": "code",
   "execution_count": 15,
   "metadata": {},
   "outputs": [
    {
     "name": "stdout",
     "output_type": "stream",
     "text": [
      "870331\n",
      "870331\n"
     ]
    }
   ],
   "source": [
    "#part 1\n",
    "for x in content:\n",
    "    for y in content:\n",
    "        if x + y == 2020:\n",
    "            print(x*y)"
   ]
  },
  {
   "cell_type": "code",
   "execution_count": 16,
   "metadata": {},
   "outputs": [
    {
     "name": "stdout",
     "output_type": "stream",
     "text": [
      "283025088\n",
      "283025088\n",
      "283025088\n",
      "283025088\n",
      "283025088\n",
      "283025088\n"
     ]
    }
   ],
   "source": [
    "#part 2\n",
    "for x in content:\n",
    "    for y in content:\n",
    "        if x + y < 2020 and (2020 - x - y) in content:\n",
    "            print(x*y*(2020 - x - y))\n",
    "            "
   ]
  }
 ],
 "metadata": {
  "kernelspec": {
   "display_name": "Python 3",
   "language": "python",
   "name": "python3"
  },
  "language_info": {
   "codemirror_mode": {
    "name": "ipython",
    "version": 3
   },
   "file_extension": ".py",
   "mimetype": "text/x-python",
   "name": "python",
   "nbconvert_exporter": "python",
   "pygments_lexer": "ipython3",
   "version": "3.8.5"
  }
 },
 "nbformat": 4,
 "nbformat_minor": 4
}
