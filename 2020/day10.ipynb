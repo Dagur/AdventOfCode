{
 "metadata": {
  "language_info": {
   "codemirror_mode": {
    "name": "ipython",
    "version": 3
   },
   "file_extension": ".py",
   "mimetype": "text/x-python",
   "name": "python",
   "nbconvert_exporter": "python",
   "pygments_lexer": "ipython3",
   "version": "3.8.5-final"
  },
  "orig_nbformat": 2,
  "kernelspec": {
   "name": "python3",
   "display_name": "Python 3",
   "language": "python"
  }
 },
 "nbformat": 4,
 "nbformat_minor": 2,
 "cells": [
  {
   "cell_type": "code",
   "execution_count": 69,
   "metadata": {},
   "outputs": [],
   "source": [
    "from functools import reduce\n",
    "from operator import mul\n",
    "\n",
    "adapters = list(map(int, open(\"input/10.txt\").readlines()))\n",
    "adapters.sort()"
   ]
  },
  {
   "cell_type": "code",
   "execution_count": 70,
   "metadata": {},
   "outputs": [
    {
     "output_type": "stream",
     "name": "stdout",
     "text": [
      "2450\n"
     ]
    }
   ],
   "source": [
    "# part 1\n",
    "jolts = 0\n",
    "differences = [0,0,0,0]\n",
    "for adapter in adapters:\n",
    "    if jolts < adapter <= jolts + 3:\n",
    "        differences[adapter - jolts] += 1\n",
    "        jolts = adapter\n",
    "\n",
    "differences[3] += 1\n",
    "print(differences[1] * differences[3])"
   ]
  },
  {
   "cell_type": "code",
   "execution_count": 71,
   "metadata": {},
   "outputs": [
    {
     "output_type": "stream",
     "name": "stdout",
     "text": [
      "32396521357312\n"
     ]
    }
   ],
   "source": [
    "# part 2\n",
    "split = [[0]]\n",
    "last = 0\n",
    "index = 0\n",
    "for adapter in adapters:\n",
    "    if adapter - last == 3:\n",
    "        split.append([adapter])\n",
    "        index += 1\n",
    "    else:\n",
    "        split[index].append(adapter)\n",
    "    last = adapter\n",
    "\n",
    "def find_routes(items):\n",
    "    seq = [0,0,1]\n",
    "    if items < 2:\n",
    "        return 1\n",
    "    for x in range(2, items + 1):\n",
    "        a, b, c = seq\n",
    "        seq = [b, c, a+b+c]\n",
    "\n",
    "    return seq[2]\n",
    "\n",
    "print(reduce(mul, (find_routes(len(a)) for a in split)))\n"
   ]
  }
 ]
}