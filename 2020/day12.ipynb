{
 "cells": [
  {
   "cell_type": "code",
   "execution_count": 14,
   "metadata": {},
   "outputs": [],
   "source": [
    "instructions = list(\n",
    "    (val[0], int(val[1:])) \n",
    "    for val in open(\"input/12.txt\").read().splitlines()\n",
    ")"
   ]
  },
  {
   "cell_type": "code",
   "execution_count": 15,
   "metadata": {},
   "outputs": [
    {
     "output_type": "stream",
     "name": "stdout",
     "text": [
      "1645\n"
     ]
    }
   ],
   "source": [
    "# part 1\n",
    "x = y = 0\n",
    "heading = 1\n",
    "\n",
    "for action, value in instructions:\n",
    "    if action == 'N':\n",
    "        y += value        \n",
    "    elif action == 'S':\n",
    "        y -= value\n",
    "    elif action == 'E':\n",
    "        x += value\n",
    "    elif action == 'W':\n",
    "        x -= value\n",
    "    elif action == 'L':\n",
    "        turns = value / 90\n",
    "        heading = (heading - turns + 4) % 4\n",
    "    elif action == 'R':\n",
    "        turns = value / 90\n",
    "        heading = (heading + turns) % 4\n",
    "    elif action == 'F':\n",
    "        if heading == 0:\n",
    "            y += value        \n",
    "        elif heading == 1:\n",
    "            x += value\n",
    "        elif heading == 2:\n",
    "            y -= value\n",
    "        elif heading == 3:\n",
    "            x -= value\n",
    "\n",
    "print(abs(x)+abs(y))"
   ]
  },
  {
   "cell_type": "code",
   "execution_count": 16,
   "metadata": {},
   "outputs": [
    {
     "output_type": "stream",
     "name": "stdout",
     "text": [
      "35292\n"
     ]
    }
   ],
   "source": [
    "# part 2\n",
    "\n",
    "# https://en.wikipedia.org/wiki/Rotation_matrix\n",
    "rotations = {\n",
    "    \"R90\": [[0, 1], [-1, 0]],\n",
    "    \"R180\": [[-1, 0], [0, -1]],\n",
    "    \"R270\": [[0,-1], [1,0]],\n",
    "    \"L90\": [[0,-1], [1,0]],\n",
    "    \"L180\": [[-1, 0], [0, -1]],\n",
    "    \"L270\": [[0, 1], [-1, 0]]\n",
    "}\n",
    "\n",
    "def rotate(v, deg):\n",
    "    r = rotations[deg]\n",
    "    x, y = v\n",
    "    return [x*r[0][0] + y*r[0][1], x*r[1][0] + y*r[1][1]]\n",
    "\n",
    "x = y = 0\n",
    "v = [10, 1]\n",
    "\n",
    "for action, value in instructions:    \n",
    "    if action == 'N':\n",
    "        v[1] += value    \n",
    "    elif action == 'S':\n",
    "        v[1] -= value        \n",
    "    elif action == 'E':\n",
    "        v[0] += value\n",
    "    elif action == 'W':\n",
    "        v[0] -= value\n",
    "    elif action in ('L', 'R'):\n",
    "        v = rotate(v, f\"{action}{value}\")\n",
    "    elif action == 'F':\n",
    "        x += v[0] * value\n",
    "        y += v[1] * value\n",
    "\n",
    "print(abs(x)+abs(y))"
   ]
  },
  {
   "cell_type": "code",
   "execution_count": null,
   "metadata": {},
   "outputs": [],
   "source": []
  }
 ],
 "metadata": {
  "kernelspec": {
   "display_name": "Python 3",
   "language": "python",
   "name": "python3"
  },
  "language_info": {
   "codemirror_mode": {
    "name": "ipython",
    "version": 3
   },
   "file_extension": ".py",
   "mimetype": "text/x-python",
   "name": "python",
   "nbconvert_exporter": "python",
   "pygments_lexer": "ipython3",
   "version": "3.8.5-final"
  }
 },
 "nbformat": 4,
 "nbformat_minor": 2
}