{
 "metadata": {
  "language_info": {
   "codemirror_mode": {
    "name": "ipython",
    "version": 3
   },
   "file_extension": ".py",
   "mimetype": "text/x-python",
   "name": "python",
   "nbconvert_exporter": "python",
   "pygments_lexer": "ipython3",
   "version": "3.8.5-final"
  },
  "orig_nbformat": 2,
  "kernelspec": {
   "name": "python3",
   "display_name": "Python 3",
   "language": "python"
  }
 },
 "nbformat": 4,
 "nbformat_minor": 2,
 "cells": [
  {
   "cell_type": "code",
   "execution_count": 269,
   "metadata": {},
   "outputs": [],
   "source": [
    "import time  \n",
    "import math\n",
    "\n",
    "with open('input/13test2.txt') as input:\n",
    "    earliest = int(input.readline())\n",
    "    busses = tuple((0 if bus == 'x' else int(bus))\n",
    "        for bus in input.readline().rstrip().split(','))\n",
    "    in_service = list(bus for bus in busses if bus > 0)\n"
   ]
  },
  {
   "cell_type": "code",
   "execution_count": 270,
   "metadata": {},
   "outputs": [
    {
     "output_type": "stream",
     "name": "stdout",
     "text": [
      "47\n"
     ]
    }
   ],
   "source": [
    "# part 1\n",
    "next_bus = (100000000, 99)\n",
    "for bus in in_service:\n",
    "    scheduled = bus\n",
    "    while scheduled < earliest:\n",
    "        scheduled += bus\n",
    "    if scheduled < next_bus[0]:\n",
    "        next_bus = (scheduled, bus)\n",
    "\n",
    "print((next_bus[0] - earliest) * next_bus[1])\n"
   ]
  },
  {
   "cell_type": "code",
   "execution_count": 271,
   "metadata": {},
   "outputs": [
    {
     "output_type": "stream",
     "name": "stdout",
     "text": [
      "0.25405311584472656\n1202161489\n"
     ]
    }
   ],
   "source": [
    "# part 2\n",
    "increments = [0] * len(in_service)\n",
    "inc = 0\n",
    "index = 0\n",
    "for x in busses:\n",
    "    if x == 0:\n",
    "        inc += 1\n",
    "    else:\n",
    "        increments[index] = inc        \n",
    "        index += 1\n",
    "        inc += 1\n",
    "\n",
    "maxval = max(in_service)\n",
    "maxindex = in_service.index(maxval)\n",
    "maxvalincrement = increments[maxindex]\n",
    "increments = list(x - maxvalincrement for x in increments)\n",
    "checkindexes = tuple(x for x in range(len(in_service)) if not x == maxindex)\n",
    "x = 0\n",
    "\n",
    "begin = time.time() \n",
    "while True:\n",
    "    x += maxval\n",
    "    if all(((x + increments[i]) % in_service[i]) == 0 for i in checkindexes):\n",
    "        break\n",
    "print(time.time() - begin)\n",
    "print(x)"
   ]
  }
 ]
}