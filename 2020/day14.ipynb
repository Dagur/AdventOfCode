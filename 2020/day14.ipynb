{
 "metadata": {
  "language_info": {
   "codemirror_mode": {
    "name": "ipython",
    "version": 3
   },
   "file_extension": ".py",
   "mimetype": "text/x-python",
   "name": "python",
   "nbconvert_exporter": "python",
   "pygments_lexer": "ipython3",
   "version": "3.8.5-final"
  },
  "orig_nbformat": 2,
  "kernelspec": {
   "name": "python3",
   "display_name": "Python 3",
   "language": "python"
  }
 },
 "nbformat": 4,
 "nbformat_minor": 2,
 "cells": [
  {
   "cell_type": "code",
   "execution_count": 160,
   "metadata": {},
   "outputs": [],
   "source": [
    "program = (row.split(\" = \") for row in open(\"input/14.txt\").read().splitlines())"
   ]
  },
  {
   "cell_type": "code",
   "execution_count": 161,
   "metadata": {},
   "outputs": [
    {
     "output_type": "stream",
     "name": "stdout",
     "text": [
      "6513443633260\n"
     ]
    }
   ],
   "source": [
    "# part 1\n",
    "actions = []\n",
    "for command, value in program:\n",
    "    if command == \"mask\":\n",
    "        changes = tuple((i, bit) for i, bit in enumerate(value) if not bit == 'X')   \n",
    "        actions.append((\"mask\", changes))\n",
    "    else:\n",
    "        actions.append((\"mem\", (int(command[4:-1]), list((bin(int(value))[2:]).zfill(36)))))\n",
    "\n",
    "mem = {}\n",
    "mask = \"\"\n",
    "for action, value in actions:    \n",
    "    if action == \"mask\":\n",
    "        mask = value\n",
    "    else:\n",
    "        address, input = value    \n",
    "        for pos, val in mask:            \n",
    "            input[pos] = val\n",
    "            \n",
    "        mem[address] = input\n",
    "\n",
    "print(sum(int(''.join(value), 2) for value in mem.values()))\n"
   ]
  },
  {
   "cell_type": "code",
   "execution_count": 162,
   "metadata": {
    "tags": []
   },
   "outputs": [
    {
     "output_type": "stream",
     "name": "stdout",
     "text": [
      "0\n"
     ]
    }
   ],
   "source": [
    "# part 2\n",
    "actions = []\n",
    "for command, value in program:\n",
    "    if command == \"mask\":\n",
    "        changes = tuple((i, bit) for i, bit in enumerate(value) if not bit == '0')   \n",
    "        actions.append((\"mask\", changes))\n",
    "    else:\n",
    "        address = bin(int(command[4:-1]))[2:].zfill(36)\n",
    "        actions.append((\"mem\", (list(address), value)))\n",
    "\n",
    "def get_all_addresses(address):    \n",
    "    xs = list(i for i, x in enumerate(address) if x == 'X')\n",
    "    xscount = len(xs)\n",
    "    for x in range(2**xscount):\n",
    "        combination = bin(x)[2:].zfill(xscount)\n",
    "        addr = list(address)\n",
    "        for i, bit in enumerate(xs):\n",
    "            addr[bit] = combination[i]\n",
    "        yield addr        \n",
    "\n",
    "mem = {}\n",
    "mask = \"\"\n",
    "for action, value in actions:    \n",
    "    if action == \"mask\":\n",
    "        mask = value\n",
    "    else:\n",
    "        address, input = value        \n",
    "        for pos, val in mask:\n",
    "            address[pos] = val\n",
    "        for addr in get_all_addresses(address):            \n",
    "            mem[int(''.join(addr), 2)] = input            \n",
    "\n",
    "print(sum(int(value) for value in mem.values()))"
   ]
  },
  {
   "cell_type": "code",
   "execution_count": null,
   "metadata": {},
   "outputs": [],
   "source": []
  }
 ]
}