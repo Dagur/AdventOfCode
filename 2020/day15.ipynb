{
 "metadata": {
  "language_info": {
   "codemirror_mode": {
    "name": "ipython",
    "version": 3
   },
   "file_extension": ".py",
   "mimetype": "text/x-python",
   "name": "python",
   "nbconvert_exporter": "python",
   "pygments_lexer": "ipython3",
   "version": "3.8.5-final"
  },
  "orig_nbformat": 2,
  "kernelspec": {
   "name": "python3",
   "display_name": "Python 3",
   "language": "python"
  }
 },
 "nbformat": 4,
 "nbformat_minor": 2,
 "cells": [
  {
   "cell_type": "code",
   "execution_count": null,
   "metadata": {},
   "outputs": [],
   "source": []
  },
  {
   "cell_type": "code",
   "execution_count": 22,
   "metadata": {},
   "outputs": [],
   "source": [
    "starting_numbers = list(int(num) for num in open(\"input/15.txt\").read().rstrip().split(','))\n"
   ]
  },
  {
   "cell_type": "code",
   "execution_count": 23,
   "metadata": {},
   "outputs": [
    {
     "output_type": "stream",
     "name": "stdout",
     "text": [
      "206\n"
     ]
    }
   ],
   "source": [
    "from collections import deque\n",
    "historylist = starting_numbers.copy()\n",
    "historylist.reverse()\n",
    "history = deque(historylist)\n",
    "count = len(history)\n",
    "\n",
    "for _ in range(2020-count):\n",
    "    last = history[0]\n",
    "    try:\n",
    "        index = history.index(last, 1)\n",
    "        history.appendleft(index)\n",
    "    except ValueError:\n",
    "        history.appendleft(0)\n",
    "    count += 1\n",
    "\n",
    "print(history[0])\n"
   ]
  },
  {
   "cell_type": "code",
   "execution_count": 24,
   "metadata": {
    "tags": []
   },
   "outputs": [
    {
     "output_type": "stream",
     "name": "stdout",
     "text": [
      "955\n"
     ]
    }
   ],
   "source": [
    "register = { val: (i, -1) for i, val in enumerate(starting_numbers)}\n",
    "count = len(starting_numbers)\n",
    "last = starting_numbers[-1]\n",
    "\n",
    "def update_register(number, pos):\n",
    "    try:\n",
    "        beforethat = register[number][0]\n",
    "    except KeyError:\n",
    "        beforethat = -1\n",
    "    register[number] = (pos, beforethat)\n",
    "\n",
    "begin = time()\n",
    "for i in range(len(starting_numbers), 30000000):\n",
    "    try:\n",
    "        before, beforethat = register[last]\n",
    "        if beforethat < 0:\n",
    "            next = 0\n",
    "        else:\n",
    "            next = before - beforethat\n",
    "    except ValueError:\n",
    "        next = 0\n",
    "    update_register(next, i)\n",
    "    last = next\n",
    "\n",
    "print(last)\n"
   ]
  },
  {
   "cell_type": "code",
   "execution_count": null,
   "metadata": {},
   "outputs": [],
   "source": []
  }
 ]
}