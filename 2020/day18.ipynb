{
 "metadata": {
  "language_info": {
   "codemirror_mode": {
    "name": "ipython",
    "version": 3
   },
   "file_extension": ".py",
   "mimetype": "text/x-python",
   "name": "python",
   "nbconvert_exporter": "python",
   "pygments_lexer": "ipython3",
   "version": "3.8.6-final"
  },
  "orig_nbformat": 2,
  "kernelspec": {
   "name": "python38664bite36f9064610d4829bbdb3ac7dffe7551",
   "display_name": "Python 3.8.6 64-bit",
   "language": "python"
  }
 },
 "nbformat": 4,
 "nbformat_minor": 2,
 "cells": [
  {
   "cell_type": "code",
   "execution_count": 1,
   "metadata": {},
   "outputs": [
    {
     "output_type": "execute_result",
     "data": {
      "text/plain": [
       "29839238838303"
      ]
     },
     "metadata": {},
     "execution_count": 1
    }
   ],
   "source": [
    "import operator\n",
    "from functools import reduce\n",
    "\n",
    "expressions = open(\"input/18.txt\").read().splitlines()\n",
    "\n",
    "def summarize(exp):\n",
    "    state = {\n",
    "        \"tot\": 0,\n",
    "        \"op\": operator.add\n",
    "    }\n",
    "    open_parens = 0\n",
    "    parenstr = \"\"\n",
    "    for c in list(exp):\n",
    "        if c == \" \":\n",
    "            continue\n",
    "\n",
    "        if c == \"(\":\n",
    "            if open_parens > 0:\n",
    "                parenstr += c\n",
    "            open_parens += 1\n",
    "            continue\n",
    "        elif c == \")\":\n",
    "            open_parens -= 1\n",
    "            if open_parens == 0:\n",
    "                n = summarize(parenstr)\n",
    "                parenstr = \"\"\n",
    "                state['tot'] = state['op'](state['tot'], n)\n",
    "            else:\n",
    "                parenstr += c\n",
    "            continue\n",
    "        \n",
    "        if open_parens > 0:\n",
    "            parenstr += c\n",
    "            continue\n",
    "        \n",
    "        elif c == \"+\":\n",
    "            state[\"op\"] = operator.add\n",
    "            continue\n",
    "        elif c == \"*\":\n",
    "            state[\"op\"] = operator.mul\n",
    "            continue\n",
    "\n",
    "        try:\n",
    "            n = int(c)\n",
    "            state['tot'] = state['op'](state['tot'], n)\n",
    "        except ValueError:\n",
    "            print(c) \n",
    "    return state[\"tot\"]\n",
    "\n",
    "sum(summarize(exp) for exp in expressions)\n"
   ]
  },
  {
   "cell_type": "code",
   "execution_count": 2,
   "metadata": {},
   "outputs": [
    {
     "output_type": "execute_result",
     "data": {
      "text/plain": [
       "201376568795521"
      ]
     },
     "metadata": {},
     "execution_count": 2
    }
   ],
   "source": [
    "\n",
    "def summarize(exp):\n",
    "    adds = [[]]\n",
    "    open_parens = 0\n",
    "    parenstr = \"\"\n",
    "    for c in list(exp):\n",
    "        if c == \" \":\n",
    "            continue\n",
    "\n",
    "        if c == \"(\":\n",
    "            if open_parens > 0:\n",
    "                parenstr += c\n",
    "            open_parens += 1\n",
    "            continue\n",
    "        elif c == \")\":\n",
    "            open_parens -= 1\n",
    "            if open_parens == 0:\n",
    "                n = summarize(parenstr)\n",
    "                parenstr = \"\"\n",
    "                adds[-1].append(n)\n",
    "            else:\n",
    "                parenstr += c\n",
    "            continue\n",
    "        \n",
    "        if open_parens > 0:\n",
    "            parenstr += c\n",
    "            continue\n",
    "        \n",
    "        elif c == \"+\":\n",
    "            continue\n",
    "        elif c == \"*\":\n",
    "            adds.append([])\n",
    "            continue\n",
    "\n",
    "        try:\n",
    "            n = int(c)\n",
    "            adds[-1].append(n)    \n",
    "        except ValueError:\n",
    "            print(c) \n",
    "    return reduce(operator.mul, (sum(vals) for vals in adds))\n",
    "\n",
    "\n",
    "sum(summarize(exp) for exp in expressions)\n"
   ]
  }
 ]
}