{
 "metadata": {
  "language_info": {
   "codemirror_mode": {
    "name": "ipython",
    "version": 3
   },
   "file_extension": ".py",
   "mimetype": "text/x-python",
   "name": "python",
   "nbconvert_exporter": "python",
   "pygments_lexer": "ipython3",
   "version": "3.8.6-final"
  },
  "orig_nbformat": 2,
  "kernelspec": {
   "name": "python38664bite36f9064610d4829bbdb3ac7dffe7551",
   "display_name": "Python 3.8.6 64-bit",
   "language": "python"
  }
 },
 "nbformat": 4,
 "nbformat_minor": 2,
 "cells": [
  {
   "cell_type": "code",
   "execution_count": 23,
   "metadata": {},
   "outputs": [
    {
     "output_type": "execute_result",
     "data": {
      "text/plain": [
       "29839238838303"
      ]
     },
     "metadata": {},
     "execution_count": 23
    }
   ],
   "source": [
    "import operator\n",
    "\n",
    "expressions = open(\"input/18.txt\").read().splitlines()\n",
    "\n",
    "def summarize(exp):\n",
    "    state = {\n",
    "        \"tot\": 0,\n",
    "        \"op\": operator.add\n",
    "    }\n",
    "    open_parens = 0\n",
    "    parenstr = \"\"\n",
    "    for c in list(exp):\n",
    "        if c == \" \":\n",
    "            continue\n",
    "\n",
    "        if c == \"(\":\n",
    "            if open_parens > 0:\n",
    "                parenstr += c\n",
    "            open_parens += 1\n",
    "            continue\n",
    "        elif c == \")\":\n",
    "            open_parens -= 1\n",
    "            if open_parens == 0:\n",
    "                n = summarize(parenstr)\n",
    "                parenstr = \"\"\n",
    "                state['tot'] = state['op'](state['tot'], n)\n",
    "            else:\n",
    "                parenstr += c\n",
    "            continue\n",
    "        \n",
    "        if open_parens > 0:\n",
    "            parenstr += c\n",
    "            continue\n",
    "        \n",
    "        elif c == \"+\":\n",
    "            state[\"op\"] = operator.add\n",
    "            continue\n",
    "        elif c == \"*\":\n",
    "            state[\"op\"] = operator.mul\n",
    "            continue\n",
    "\n",
    "        try:\n",
    "            n = int(c)\n",
    "            state['tot'] = state['op'](state['tot'], n)\n",
    "        except ValueError:\n",
    "            print(c) \n",
    "    return state[\"tot\"]\n",
    "\n",
    "sum(summarize(exp) for exp in expressions)\n"
   ]
  }
 ]
}