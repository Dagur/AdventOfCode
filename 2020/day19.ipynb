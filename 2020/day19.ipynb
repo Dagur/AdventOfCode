{
 "metadata": {
  "language_info": {
   "codemirror_mode": {
    "name": "ipython",
    "version": 3
   },
   "file_extension": ".py",
   "mimetype": "text/x-python",
   "name": "python",
   "nbconvert_exporter": "python",
   "pygments_lexer": "ipython3",
   "version": "3.8.6-final"
  },
  "orig_nbformat": 2,
  "kernelspec": {
   "name": "python38664bite36f9064610d4829bbdb3ac7dffe7551",
   "display_name": "Python 3.8.6 64-bit",
   "language": "python"
  }
 },
 "nbformat": 4,
 "nbformat_minor": 2,
 "cells": [
  {
   "cell_type": "code",
   "execution_count": 120,
   "metadata": {},
   "outputs": [],
   "source": [
    "input = open(\"input/19.txt\").read().split(\"\\n\\n\")\n",
    "\n",
    "messages = input[1].splitlines()\n",
    "rules = {}\n",
    "\n",
    "for rule in input[0].splitlines():\n",
    "    id, details = rule.split(\": \")\n",
    "    split = list(ids.split() for ids in details.replace('\"', '').split(\" | \"))\n",
    "    if len(split) == 2:\n",
    "        r1, r2 = split\n",
    "        rules[int(id)] = { \n",
    "            \"type\": \"split\", \n",
    "            \"cond\": list(list(int(x) for x in l) for l in split) \n",
    "        }\n",
    "    else:\n",
    "        try:\n",
    "            rules[int(id)] = { \n",
    "                \"type\": \"rule\", \n",
    "                \"cond\": [int(x) for x in split[0]] \n",
    "            }\n",
    "        except ValueError:\n",
    "            rules[int(id)] = { \n",
    "                \"type\": \"term\", \n",
    "                \"cond\": split[0][0] \n",
    "            }"
   ]
  },
  {
   "cell_type": "code",
   "execution_count": 121,
   "metadata": {
    "tags": []
   },
   "outputs": [],
   "source": [
    "def resolve(message, cond):\n",
    "    total_chars = 0\n",
    "    previd = 0\n",
    "    m = message\n",
    "    for id in cond:\n",
    "        if not message:\n",
    "            if previd == 11:\n",
    "                return total_chars\n",
    "            else:\n",
    "                return 0\n",
    "        chars = parse(message, id)\n",
    "        if chars == 0:\n",
    "            return 0\n",
    "        total_chars += chars\n",
    "        message = message[chars:]\n",
    "        previd = id\n",
    "    return total_chars\n",
    "\n",
    "def parse(message, id):\n",
    "    rule = rules[id]\n",
    "    if rule[\"type\"] == \"term\":\n",
    "        return 1 if message[0] == rule[\"cond\"] else 0\n",
    "    elif rule[\"type\"] == \"rule\":\n",
    "        return resolve(message, rule[\"cond\"])\n",
    "    else:\n",
    "        ret = resolve(message, rule[\"cond\"][0])\n",
    "        if ret == 0:\n",
    "            return resolve(message, rule[\"cond\"][1])\n",
    "        return ret\n"
   ]
  },
  {
   "cell_type": "code",
   "execution_count": 122,
   "metadata": {
    "tags": []
   },
   "outputs": [
    {
     "output_type": "stream",
     "name": "stdout",
     "text": [
      "142\n"
     ]
    }
   ],
   "source": [
    "# part 1\n",
    "print(sum(1 for m in messages if len(m) == parse(m, 0)))"
   ]
  },
  {
   "cell_type": "code",
   "execution_count": 123,
   "metadata": {
    "tags": []
   },
   "outputs": [
    {
     "output_type": "stream",
     "name": "stdout",
     "text": [
      "294\n"
     ]
    }
   ],
   "source": [
    "# part 2\n",
    "rules[8] = {'type': 'split', 'cond': [[42], [42, 8]]}\n",
    "rules[11] = {'type': 'split', 'cond': [[42, 31], [42, 11, 31]]}\n",
    "\n",
    "print(sum(1 for m in messages if len(m) == parse(m, 0)))"
   ]
  },
  {
   "cell_type": "code",
   "execution_count": null,
   "metadata": {},
   "outputs": [],
   "source": []
  }
 ]
}