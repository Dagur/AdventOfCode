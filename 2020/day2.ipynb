{
 "cells": [
  {
   "cell_type": "code",
   "execution_count": 2,
   "metadata": {},
   "outputs": [],
   "source": [
    "import re\n",
    "p = re.compile('(\\d+)-(\\d+) (\\w): (\\w+)')\n",
    "content = open(\"input/2.txt\").readlines()"
   ]
  },
  {
   "cell_type": "code",
   "execution_count": 14,
   "metadata": {},
   "outputs": [
    {
     "name": "stdout",
     "output_type": "stream",
     "text": [
      "620\n"
     ]
    }
   ],
   "source": [
    "# part 1\n",
    "count = 0\n",
    "for entry in content:\n",
    "    (lower, upper, symbol, password) =  p.match(entry).groups()\n",
    "    if int(lower) <= password.count(symbol) <= int(upper):\n",
    "        count += 1\n",
    "\n",
    "print(count)"
   ]
  },
  {
   "cell_type": "code",
   "execution_count": 30,
   "metadata": {},
   "outputs": [
    {
     "name": "stdout",
     "output_type": "stream",
     "text": [
      "727\n"
     ]
    }
   ],
   "source": [
    "# part 2\n",
    "count = 0\n",
    "for entry in content:\n",
    "    (pos1, pos2, symbol, password) =  p.match(entry).groups()\n",
    "    locations = tuple(i + 1 for (i, c) in enumerate(password) if c == symbol)\n",
    "    if (int(pos1) in locations) != (int(pos2) in locations):\n",
    "        count += 1\n",
    "\n",
    "print(count)"
   ]
  }
 ],
 "metadata": {
  "kernelspec": {
   "display_name": "Python 3",
   "language": "python",
   "name": "python3"
  },
  "language_info": {
   "codemirror_mode": {
    "name": "ipython",
    "version": 3
   },
   "file_extension": ".py",
   "mimetype": "text/x-python",
   "name": "python",
   "nbconvert_exporter": "python",
   "pygments_lexer": "ipython3",
   "version": "3.8.5"
  }
 },
 "nbformat": 4,
 "nbformat_minor": 4
}
