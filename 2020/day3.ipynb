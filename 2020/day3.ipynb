{
 "cells": [
  {
   "cell_type": "code",
   "execution_count": 31,
   "metadata": {},
   "outputs": [],
   "source": [
    "slope  = tuple(line.rstrip('\\n') for line in open(\"input/3.txt\").readlines())"
   ]
  },
  {
   "cell_type": "code",
   "execution_count": 28,
   "metadata": {},
   "outputs": [],
   "source": [
    "def run(slope, right, down):\n",
    "    width = len(slope[0])\n",
    "    height = len(slope)\n",
    "    count = 0\n",
    "    y = right\n",
    "    for x in range(down, height, down):\n",
    "        if slope[x][y] == \"#\":\n",
    "            count += 1\n",
    "        y = (y + right) % width\n",
    "    return count\n"
   ]
  },
  {
   "cell_type": "code",
   "execution_count": 23,
   "metadata": {},
   "outputs": [
    {
     "name": "stdout",
     "output_type": "stream",
     "text": [
      "242\n"
     ]
    }
   ],
   "source": [
    "# part 1\n",
    "print(run(slope, 3, 1))"
   ]
  },
  {
   "cell_type": "code",
   "execution_count": 34,
   "metadata": {},
   "outputs": [
    {
     "name": "stdout",
     "output_type": "stream",
     "text": [
      "2265549792\n"
     ]
    }
   ],
   "source": [
    "# part 2\n",
    "print (run(slope, 1, 1) * run(slope, 3, 1) * run(slope, 5, 1) * run(slope, 7, 1) * run(slope, 1, 2))"
   ]
  },
  {
   "cell_type": "code",
   "execution_count": 29,
   "metadata": {},
   "outputs": [
    {
     "name": "stdout",
     "output_type": "stream",
     "text": [
      "2\n",
      "7\n",
      "3\n",
      "4\n",
      "2\n"
     ]
    }
   ],
   "source": [
    "slope = (\n",
    "\"..##.......\",\n",
    "\"#...#...#..\",\n",
    "\".#....#..#.\",\n",
    "\"..#.#...#.#\",\n",
    "\".#...##..#.\",\n",
    "\"..#.##.....\",\n",
    "\".#.#.#....#\",\n",
    "\".#........#\",\n",
    "\"#.##...#...\",\n",
    "\"#...##....#\",\n",
    "\".#..#...#.#\"\n",
    ")\n",
    "\n",
    "print(run(slope, 1, 1)) # 2\n",
    "print(run(slope, 3, 1)) # 7\n",
    "print(run(slope, 5, 1)) # 3\n",
    "print(run(slope, 7, 1)) # 4\n",
    "print(run(slope, 1, 2)) # 2"
   ]
  }
 ],
 "metadata": {
  "kernelspec": {
   "display_name": "Python 3",
   "language": "python",
   "name": "python3"
  },
  "language_info": {
   "codemirror_mode": {
    "name": "ipython",
    "version": 3
   },
   "file_extension": ".py",
   "mimetype": "text/x-python",
   "name": "python",
   "nbconvert_exporter": "python",
   "pygments_lexer": "ipython3",
   "version": "3.8.5"
  }
 },
 "nbformat": 4,
 "nbformat_minor": 4
}
