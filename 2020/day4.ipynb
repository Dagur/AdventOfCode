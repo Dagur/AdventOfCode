{
 "metadata": {
  "language_info": {
   "codemirror_mode": {
    "name": "ipython",
    "version": 3
   },
   "file_extension": ".py",
   "mimetype": "text/x-python",
   "name": "python",
   "nbconvert_exporter": "python",
   "pygments_lexer": "ipython3",
   "version": "3.8.5-final"
  },
  "orig_nbformat": 2,
  "kernelspec": {
   "name": "python3",
   "display_name": "Python 3"
  }
 },
 "nbformat": 4,
 "nbformat_minor": 2,
 "cells": [
  {
   "cell_type": "code",
   "execution_count": 52,
   "metadata": {},
   "outputs": [],
   "source": [
    "passports = [{}]\n",
    "index = 0\n",
    "with open(\"input/4.txt\") as file:\n",
    "    for line in file.readlines():\n",
    "        if line == \"\\n\":\n",
    "            passports.append({})\n",
    "            index += 1    \n",
    "        else:\n",
    "            for field in line.split():\n",
    "                (name, value) = field.split(':')\n",
    "                passports[index][name] = value\n",
    "\n"
   ]
  },
  {
   "cell_type": "code",
   "execution_count": 53,
   "metadata": {},
   "outputs": [],
   "source": [
    "required_fields =  [\n",
    "    \"byr\", # (Birth Year)\n",
    "    \"iyr\", # (Issue Year)\n",
    "    \"eyr\", # (Expiration Year)\n",
    "    \"hgt\", # (Height)\n",
    "    \"hcl\", # (Hair Color)\n",
    "    \"ecl\", # (Eye Color)\n",
    "    \"pid\", # (Passport ID)\n",
    "    # \"cid\", # (Country ID)\n",
    "]"
   ]
  },
  {
   "cell_type": "code",
   "execution_count": 54,
   "metadata": {},
   "outputs": [
    {
     "output_type": "stream",
     "name": "stdout",
     "text": [
      "204\n"
     ]
    }
   ],
   "source": [
    "# part 1\n",
    "def is_valid(passport):\n",
    "    return all((field in passport) for field in required_fields)\n",
    "\n",
    "print(sum(1 for passport in passports if is_valid(passport)))"
   ]
  },
  {
   "cell_type": "code",
   "execution_count": 69,
   "metadata": {
    "tags": []
   },
   "outputs": [
    {
     "output_type": "stream",
     "name": "stdout",
     "text": [
      "179\n"
     ]
    }
   ],
   "source": [
    "# part 2\n",
    "import re\n",
    "check_hcl = re.compile(r'^#[0-9a-f]{6}$')\n",
    "check_pid = re.compile(r'^[0-9]{9}$')\n",
    "\n",
    "validcount = 0\n",
    "for passport in passports:\n",
    "    if not is_valid(passport):\n",
    "        continue\n",
    "    if not 1919 < int(passport[\"byr\"]) < 2003:\n",
    "        continue\n",
    "    if not 2009 < int(passport[\"iyr\"]) < 2021:\n",
    "        continue\n",
    "    if not 2019 < int(passport[\"eyr\"]) < 2031:\n",
    "        continue\n",
    "    height = int(passport[\"hgt\"][:-2])\n",
    "    if passport[\"hgt\"][-2:] == \"cm\":\n",
    "        if not 149 < height < 194:\n",
    "            continue\n",
    "    else:\n",
    "        if not 58 < height < 77:\n",
    "            continue\n",
    "    if not check_hcl.match(passport[\"hcl\"]):\n",
    "        continue\n",
    "    if passport[\"ecl\"] not in (\"amb\", \"blu\", \"brn\", \"gry\", \"grn\", \"hzl\", \"oth\"):\n",
    "        continue\n",
    "    if not check_pid.match(passport[\"pid\"]):\n",
    "        continue    \n",
    "    validcount += 1\n",
    "\n",
    "print(validcount)"
   ]
  },
  {
   "cell_type": "code",
   "execution_count": null,
   "metadata": {},
   "outputs": [],
   "source": []
  }
 ]
}