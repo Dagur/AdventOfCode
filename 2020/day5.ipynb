{
 "metadata": {
  "language_info": {
   "codemirror_mode": {
    "name": "ipython",
    "version": 3
   },
   "file_extension": ".py",
   "mimetype": "text/x-python",
   "name": "python",
   "nbconvert_exporter": "python",
   "pygments_lexer": "ipython3",
   "version": "3.8.5-final"
  },
  "orig_nbformat": 2,
  "kernelspec": {
   "name": "python3",
   "display_name": "Python 3"
  }
 },
 "nbformat": 4,
 "nbformat_minor": 2,
 "cells": [
  {
   "cell_type": "code",
   "execution_count": 1,
   "metadata": {},
   "outputs": [],
   "source": [
    "boardingpasses = tuple(line.rstrip('\\n') for line in open(\"input/5.txt\").readlines())"
   ]
  },
  {
   "cell_type": "code",
   "execution_count": 2,
   "metadata": {},
   "outputs": [],
   "source": [
    "row_trans = str.maketrans(\"01\", \"FB\")\n",
    "seat_trans = str.maketrans(\"01\", \"LR\")\n",
    "permutations = {}\n",
    "for row in range(128):\n",
    "    for seat in range(8):\n",
    "        rowstr = \"{0:b}\".format(row).zfill(7).translate(row_trans)\n",
    "        seatstr = \"{0:b}\".format(seat).zfill(3).translate(seat_trans)\n",
    "        permutations[rowstr+seatstr] = row * 8 + seat\n"
   ]
  },
  {
   "cell_type": "code",
   "execution_count": 3,
   "metadata": {},
   "outputs": [
    {
     "output_type": "stream",
     "name": "stdout",
     "text": [
      "906\n"
     ]
    }
   ],
   "source": [
    "# part 1\n",
    "print(max(permutations[boardingpass] for boardingpass in boardingpasses))"
   ]
  },
  {
   "cell_type": "code",
   "execution_count": 4,
   "metadata": {},
   "outputs": [
    {
     "output_type": "stream",
     "name": "stdout",
     "text": [
      "519\n"
     ]
    }
   ],
   "source": [
    "# part 2\n",
    "missing_ids = set(permutations.keys()).difference(boardingpasses)\n",
    "values = [permutations[id] for id in missing_ids]\n",
    "values.sort()\n",
    "\n",
    "before = after = -1\n",
    "for i, id in enumerate(values):\n",
    "    if not (before == id - 1 or after == id + 1):\n",
    "        break\n",
    "    before = id\n",
    "    after = values[i+1]\n",
    "\n",
    "print(id)\n"
   ]
  },
  {
   "cell_type": "code",
   "execution_count": null,
   "metadata": {},
   "outputs": [],
   "source": []
  }
 ]
}