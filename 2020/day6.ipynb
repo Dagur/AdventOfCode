{
 "metadata": {
  "language_info": {
   "codemirror_mode": {
    "name": "ipython",
    "version": 3
   },
   "file_extension": ".py",
   "mimetype": "text/x-python",
   "name": "python",
   "nbconvert_exporter": "python",
   "pygments_lexer": "ipython3",
   "version": "3.8.5-final"
  },
  "orig_nbformat": 2,
  "kernelspec": {
   "name": "python3",
   "display_name": "Python 3"
  }
 },
 "nbformat": 4,
 "nbformat_minor": 2,
 "cells": [
  {
   "cell_type": "code",
   "execution_count": 68,
   "metadata": {},
   "outputs": [],
   "source": [
    "data =  tuple(open(\"input/6.txt\").readlines())\n",
    "\n",
    "groups = [list()]\n",
    "index = 0\n",
    "\n",
    "for line in data:    \n",
    "    if line == \"\\n\":\n",
    "        groups.append(list())\n",
    "        index += 1    \n",
    "    else:\n",
    "        groups[index].append(list(line[:-1]))\n"
   ]
  },
  {
   "cell_type": "code",
   "execution_count": 69,
   "metadata": {
    "tags": []
   },
   "outputs": [
    {
     "output_type": "stream",
     "name": "stdout",
     "text": [
      "6703\n"
     ]
    }
   ],
   "source": [
    "# part1 \n",
    "total = 0\n",
    "for group in groups:\n",
    "    all_answers = []\n",
    "    for answers in group:\n",
    "        all_answers.extend(answers)\n",
    "    total += len(set(all_answers))\n",
    "\n",
    "print(total)"
   ]
  },
  {
   "cell_type": "code",
   "execution_count": 70,
   "metadata": {
    "tags": []
   },
   "outputs": [
    {
     "output_type": "stream",
     "name": "stdout",
     "text": [
      "3430\n"
     ]
    }
   ],
   "source": [
    "# part2\n",
    "total = 0\n",
    "for group in groups:\n",
    "    all_answers = []\n",
    "    for answers in group:\n",
    "        all_answers.extend(answers)\n",
    "    common = all_answers\n",
    "    for answers in group:\n",
    "        common = set(answers).intersection(common)\n",
    "\n",
    "    total += len(common)\n",
    "\n",
    "print(total)"
   ]
  }
 ]
}