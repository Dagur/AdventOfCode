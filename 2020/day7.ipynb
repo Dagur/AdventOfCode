{
 "metadata": {
  "language_info": {
   "codemirror_mode": {
    "name": "ipython",
    "version": 3
   },
   "file_extension": ".py",
   "mimetype": "text/x-python",
   "name": "python",
   "nbconvert_exporter": "python",
   "pygments_lexer": "ipython3",
   "version": "3.8.5-final"
  },
  "orig_nbformat": 2,
  "kernelspec": {
   "name": "python3",
   "display_name": "Python 3"
  }
 },
 "nbformat": 4,
 "nbformat_minor": 2,
 "cells": [
  {
   "cell_type": "code",
   "execution_count": 79,
   "metadata": {
    "tags": []
   },
   "outputs": [],
   "source": [
    "import re\n",
    "bagexp = re.compile(\"^(\\d+) ([a-z ]+) bags?\\.?$\")\n",
    "\n",
    "def count_bags(bag):\n",
    "    count, description = bagexp.match(bag).groups()\n",
    "    return (int(count), description)\n",
    "\n",
    "def ruleparser(rule):\n",
    "    main_bag, contents = rule.split(\" bags contain \")\n",
    "    if contents == \"no other bags.\":\n",
    "        return main_bag, []\n",
    "    return main_bag, [count_bags(bag) for bag in contents.split(', ')]\n",
    "\n",
    "input = open(\"input/7.txt\").read().splitlines()\n",
    "rules = dict([ruleparser(line) for line in input])"
   ]
  },
  {
   "cell_type": "code",
   "execution_count": 80,
   "metadata": {},
   "outputs": [
    {
     "output_type": "stream",
     "name": "stdout",
     "text": [
      "326\n"
     ]
    }
   ],
   "source": [
    "# part 1\n",
    "def contains_gold(bag_name):\n",
    "    if bag_name == \"shiny gold\":\n",
    "        return True\n",
    "    return any(contains_gold(name) for _, name in rules[bag_name])\n",
    "\n",
    "print(sum(\n",
    "    (contains_gold(name) and 1 or 0) \n",
    "    for name in rules if name != \"shiny gold\"))\n",
    "\n"
   ]
  },
  {
   "cell_type": "code",
   "execution_count": 81,
   "metadata": {},
   "outputs": [
    {
     "output_type": "stream",
     "name": "stdout",
     "text": [
      "5635\n"
     ]
    }
   ],
   "source": [
    "# part 2\n",
    "def count_containing(bag_name):\n",
    "    return 1 + sum(count * count_containing(name)\n",
    "                   for count, name in rules[bag_name])\n",
    "    \n",
    "        \n",
    "print(count_containing(\"shiny gold\") - 1)"
   ]
  },
  {
   "cell_type": "code",
   "execution_count": null,
   "metadata": {},
   "outputs": [],
   "source": []
  }
 ]
}