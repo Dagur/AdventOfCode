{
 "metadata": {
  "language_info": {
   "codemirror_mode": {
    "name": "ipython",
    "version": 3
   },
   "file_extension": ".py",
   "mimetype": "text/x-python",
   "name": "python",
   "nbconvert_exporter": "python",
   "pygments_lexer": "ipython3",
   "version": "3.8.5-final"
  },
  "orig_nbformat": 2,
  "kernelspec": {
   "name": "python3",
   "display_name": "Python 3"
  }
 },
 "nbformat": 4,
 "nbformat_minor": 2,
 "cells": [
  {
   "cell_type": "code",
   "execution_count": 68,
   "metadata": {},
   "outputs": [],
   "source": [
    "data = open(\"input/8.txt\").read().splitlines()\n",
    "instructions = list(inst.split() for inst in data)\n",
    "\n",
    "def run(instructions):\n",
    "    number_of_instructions = len(instructions)\n",
    "    success = False\n",
    "    acc = 0\n",
    "    next = 0\n",
    "    history = []\n",
    "    while next not in history:\n",
    "        if (number_of_instructions == next):\n",
    "            success = True\n",
    "            break\n",
    "        operation, offset = instructions[next]\n",
    "        history.append(next)    \n",
    "        offsetval = offset[0] == '+' and int(offset[1:]) or -int(offset[1:])\n",
    "        \n",
    "        if operation == 'acc':\n",
    "            next += 1\n",
    "            acc += offsetval\n",
    "        elif operation == 'jmp':\n",
    "            next += offsetval\n",
    "        else:\n",
    "            next += 1            \n",
    "    \n",
    "    return acc, success\n"
   ]
  },
  {
   "cell_type": "code",
   "execution_count": 69,
   "metadata": {},
   "outputs": [
    {
     "output_type": "stream",
     "name": "stdout",
     "text": [
      "1749\n"
     ]
    }
   ],
   "source": [
    "# part 1\n",
    "print(run(instructions)[0])"
   ]
  },
  {
   "cell_type": "code",
   "execution_count": 70,
   "metadata": {},
   "outputs": [
    {
     "output_type": "stream",
     "name": "stdout",
     "text": [
      "515\n"
     ]
    }
   ],
   "source": [
    "# part 2\n",
    "jmp_indexes = (i for i, instruction in enumerate(instructions) \n",
    "               if instruction[0] == \"jmp\")\n",
    "\n",
    "for index in jmp_indexes:\n",
    "    _, offset = instructions[index]\n",
    "    instructions[index] = (\"nop\", offset)\n",
    "    acc, success = run(instructions)\n",
    "    if success:\n",
    "        print(acc)\n",
    "        break\n",
    "    instructions[index] = (\"jmp\", offset)\n"
   ]
  },
  {
   "cell_type": "code",
   "execution_count": null,
   "metadata": {},
   "outputs": [],
   "source": []
  }
 ]
}